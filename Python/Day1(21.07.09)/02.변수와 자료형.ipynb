{
 "cells": [
  {
   "cell_type": "markdown",
   "id": "194645a0",
   "metadata": {},
   "source": [
    "# --- 변수와 자료형 ---\n",
    "## 변수\n",
    "계산에 필요한 자료를 일시적으로 저장하거나 처리결과를 담을 수 있는 기억장소를 지정해 주는 역할.   \n",
    "변수 이름은 값을 지정하는 메모리 영역의 이름으로 할당.\n",
    "\n",
    "## 변수 이름의 작성 규칙\n",
    "- 첫자는 영문으로 시작.\n",
    "- 첫자를 제외하고 숫자, under bar, dot를 사용할 수 있음\n",
    "- 대문자와 소문자를 구분.\n",
    "- 변수 이름은 의미를 파악할 수 있는 이름으로 지정하는 것이 좋음.\n",
    "- 두단어를 포함한 변수 이름을 지정할 경우 두번째 단어의 첫자는 대문자로 표시 (camel method)나 underbar(snake method)로 표시 하는것이 가독성에 좋음.\n",
    "\n",
    "# 자료형\n",
    "\n",
    "## 숫자 자료형\n"
   ]
  },
  {
   "cell_type": "code",
   "execution_count": null,
   "id": "936db4f3",
   "metadata": {},
   "outputs": [],
   "source": [
    "# 정수형\n",
    "\n",
    "var01 = 123\n",
    "var01 = -17\n",
    "var01 = 0\n",
    "\n",
    "var01\n"
   ]
  },
  {
   "cell_type": "code",
   "execution_count": null,
   "id": "a5717d52",
   "metadata": {},
   "outputs": [],
   "source": [
    "# 실수형\n",
    "var02 = 1.2\n",
    "var02 = -12.34\n",
    "\n",
    "var02 "
   ]
  },
  {
   "cell_type": "code",
   "execution_count": null,
   "id": "c1c16448",
   "metadata": {},
   "outputs": [],
   "source": [
    "# 연산자\n",
    "\n",
    "var01 = 3\n",
    "var02 = 4\n",
    "\n",
    "print('덧셈 : ', var01 + var02)\n",
    "print('뺄셈 : ', var01 - var02)\n",
    "print('곱셈 : ', var01 * var02)\n",
    "print('실수 나눗셈 : ', var01 / var02)\n",
    "print('정수 나눗셈 몫 : ', var01 // var02)\n",
    "print('정수 나눗셈 나머지 : ', var01 % var02)\n",
    "print('제곱 : ', var01 ** var02)\n",
    "print('제곱 : ', pow(var01, 2))"
   ]
  },
  {
   "cell_type": "markdown",
   "id": "05fc0532",
   "metadata": {},
   "source": [
    "# 파이썬 모듈을 이용한 수학계산"
   ]
  },
  {
   "cell_type": "code",
   "execution_count": null,
   "id": "8779abc9",
   "metadata": {},
   "outputs": [],
   "source": [
    "# 수학계산 모듈 불러오기\n",
    "import math\n"
   ]
  },
  {
   "cell_type": "code",
   "execution_count": null,
   "id": "f18f052d",
   "metadata": {},
   "outputs": [],
   "source": [
    "# 거듭제곱\n",
    "math.pow(var01, 2)"
   ]
  },
  {
   "cell_type": "code",
   "execution_count": null,
   "id": "92ce28c6",
   "metadata": {},
   "outputs": [],
   "source": [
    "# 제곱근\n",
    "math.sqrt(var01)"
   ]
  },
  {
   "cell_type": "code",
   "execution_count": null,
   "id": "281dcf3c",
   "metadata": {},
   "outputs": [],
   "source": [
    "# sin(45)\n",
    "math.sin(45)"
   ]
  },
  {
   "cell_type": "code",
   "execution_count": null,
   "id": "f07e2cd0",
   "metadata": {},
   "outputs": [],
   "source": [
    "math.pow(math.sin(45),2) + math.pow(math.cos(45),2)"
   ]
  },
  {
   "cell_type": "markdown",
   "id": "cd8a189c",
   "metadata": {},
   "source": [
    "## 난수 발생"
   ]
  },
  {
   "cell_type": "code",
   "execution_count": null,
   "id": "ac1483e4",
   "metadata": {},
   "outputs": [],
   "source": [
    "import random"
   ]
  },
  {
   "cell_type": "code",
   "execution_count": null,
   "id": "6cf16958",
   "metadata": {},
   "outputs": [],
   "source": [
    "random.randint(1,100)"
   ]
  },
  {
   "cell_type": "code",
   "execution_count": null,
   "id": "acd57b1b",
   "metadata": {},
   "outputs": [],
   "source": [
    "rlist = [1,2,3,4,5]\n",
    "random.sample(rlist, 3)"
   ]
  },
  {
   "cell_type": "code",
   "execution_count": null,
   "id": "ab769ec4",
   "metadata": {},
   "outputs": [],
   "source": [
    "alist = range(1, 101)\n",
    "for i in alist :\n",
    "    print(i)"
   ]
  },
  {
   "cell_type": "code",
   "execution_count": null,
   "id": "8f763ebe",
   "metadata": {},
   "outputs": [],
   "source": [
    "# 로또 자동번호 생성기\n",
    "alist = range(1,47)\n",
    "random.sample(alist, 6)"
   ]
  },
  {
   "cell_type": "code",
   "execution_count": null,
   "id": "23e6640b",
   "metadata": {},
   "outputs": [],
   "source": [
    "# 메모리에 있는 변수 보기\n",
    "dir()"
   ]
  },
  {
   "cell_type": "code",
   "execution_count": null,
   "id": "0b52b422",
   "metadata": {},
   "outputs": [],
   "source": [
    "# 메모리에 있는 변수 지우기\n",
    "del var01"
   ]
  },
  {
   "cell_type": "markdown",
   "id": "54a05f6c",
   "metadata": {},
   "source": [
    "# 관계 연산자"
   ]
  },
  {
   "cell_type": "code",
   "execution_count": null,
   "id": "f31abb69",
   "metadata": {},
   "outputs": [],
   "source": [
    "num1 = 100\n",
    "num2 = 20"
   ]
  },
  {
   "cell_type": "code",
   "execution_count": null,
   "id": "3365c489",
   "metadata": {},
   "outputs": [],
   "source": [
    "# 동등비교\n",
    "print(num1 == num2)\n",
    "print(num1 != num2)"
   ]
  },
  {
   "cell_type": "code",
   "execution_count": null,
   "id": "e35b0774",
   "metadata": {},
   "outputs": [],
   "source": [
    "# 크기비교\n",
    "num1 > num2\n",
    "num1 < num2\n",
    "#마지막만 보여줌! print 쓰셈."
   ]
  },
  {
   "cell_type": "markdown",
   "id": "be0238eb",
   "metadata": {},
   "source": [
    "# 논리연산자"
   ]
  },
  {
   "cell_type": "code",
   "execution_count": null,
   "id": "29cbec57",
   "metadata": {},
   "outputs": [],
   "source": [
    "# And, or\n",
    "print((num1 >= 50) & (num2 <= 10))\n",
    "print((num1 >= 50) | (num2 <= 10))"
   ]
  },
  {
   "cell_type": "code",
   "execution_count": null,
   "id": "0925318b",
   "metadata": {},
   "outputs": [],
   "source": [
    "# 부정 연산자\n",
    "not(num1>= 50)"
   ]
  },
  {
   "cell_type": "markdown",
   "id": "bec1bbe7",
   "metadata": {},
   "source": [
    "# 문자열 자료형"
   ]
  },
  {
   "cell_type": "code",
   "execution_count": null,
   "id": "ea4f1c2f",
   "metadata": {},
   "outputs": [],
   "source": [
    "var01 = \"Hello world!\"\n",
    "var01"
   ]
  },
  {
   "cell_type": "code",
   "execution_count": null,
   "id": "d2584a0d",
   "metadata": {},
   "outputs": [],
   "source": [
    "# 여러줄의 문자열 출력\n",
    "\n",
    "var01 = \"\"\" \n",
    "    Hello World!\n",
    "    Good to meet you!\n",
    "\"\"\"\n",
    "print(var01)"
   ]
  },
  {
   "cell_type": "code",
   "execution_count": null,
   "id": "108d33be",
   "metadata": {},
   "outputs": [],
   "source": [
    "# 쌍따옴표와 홑따옴표 사용\n",
    "\n",
    "var01 = \"My faher's wife is my mother.\"\n",
    "var02 = 'he says \"I love you.\"'\n",
    "print(var01)\n",
    "print(var02)"
   ]
  },
  {
   "cell_type": "code",
   "execution_count": null,
   "id": "f948141d",
   "metadata": {},
   "outputs": [],
   "source": [
    "# 특수문자를 사용한 출력\n",
    "var03 = 'aaa\\nbbb'\n",
    "var04 = 'aaa\\tbbb'\n",
    "print(var03)\n",
    "print(var04)"
   ]
  },
  {
   "cell_type": "code",
   "execution_count": null,
   "id": "f1e07b9e",
   "metadata": {},
   "outputs": [],
   "source": [
    "# 문자열 연산(덧셈)\n",
    "var01 = 'Python'\n",
    "var02 = 'is fun'\n",
    "\n",
    "print(var01 + var02)\n",
    "print(var01, var02)\n"
   ]
  },
  {
   "cell_type": "code",
   "execution_count": null,
   "id": "601ed338",
   "metadata": {},
   "outputs": [],
   "source": [
    "#문자열 연산(곱셈)\n",
    "print(var01 * 3)"
   ]
  },
  {
   "cell_type": "code",
   "execution_count": 2,
   "id": "33526598",
   "metadata": {},
   "outputs": [
    {
     "name": "stdout",
     "output_type": "stream",
     "text": [
      "a\n",
      "abc\n",
      "n\n",
      "fghijklmn\n",
      "abcde\n",
      "fghijkl\n"
     ]
    }
   ],
   "source": [
    "# 문자열 indexing과 Slicing\n",
    "str = \"abcdefghijklmn\"\n",
    "print(str[0])\n",
    "print(str[0:3]) #3번전까지!\n",
    "print(str[-1]) #맨뒤에글자\n",
    "print(str[5:])\n",
    "print(str[:5])\n",
    "\n",
    "# fghijkl [_:-_]\n",
    "print(str[5:-2])\n"
   ]
  },
  {
   "cell_type": "code",
   "execution_count": 7,
   "id": "16f01ea4",
   "metadata": {},
   "outputs": [
    {
     "name": "stdout",
     "output_type": "stream",
     "text": [
      "2021 12 31\n"
     ]
    }
   ],
   "source": [
    "str = \"20211231\"\n",
    "# 2021-12-31\n",
    "print(str[0:4],str[4:6],str[6:8])"
   ]
  },
  {
   "cell_type": "code",
   "execution_count": 8,
   "id": "6eb2292a",
   "metadata": {},
   "outputs": [
    {
     "name": "stdout",
     "output_type": "stream",
     "text": [
      "2021C1231\n"
     ]
    }
   ],
   "source": [
    "#2021C1231\n",
    "print(str[0:4] + \"C\" + str[4:])"
   ]
  },
  {
   "cell_type": "markdown",
   "id": "3896c340",
   "metadata": {},
   "source": [
    "# 문자열 관련함수 //여기서 부터는 진짜 많이 사용됨"
   ]
  },
  {
   "cell_type": "code",
   "execution_count": 9,
   "id": "5ce84db0",
   "metadata": {},
   "outputs": [
    {
     "name": "stdout",
     "output_type": "stream",
     "text": [
      "3\n",
      "15\n"
     ]
    }
   ],
   "source": [
    "#문자 Count\n",
    "str = \"I have a dream.\"\n",
    "print(str.count('a'))\n",
    "print(len(str))"
   ]
  },
  {
   "cell_type": "code",
   "execution_count": 11,
   "id": "9870fb7b",
   "metadata": {},
   "outputs": [
    {
     "name": "stdout",
     "output_type": "stream",
     "text": [
      "5\n",
      "-1\n"
     ]
    }
   ],
   "source": [
    "# 문자 위치 알려주기\n",
    "print(str.find('e'))\n",
    "print(str.find('x'))"
   ]
  },
  {
   "cell_type": "code",
   "execution_count": 12,
   "id": "02efdb76",
   "metadata": {},
   "outputs": [
    {
     "data": {
      "text/plain": [
       "'a,b,c,d,e,f,g'"
      ]
     },
     "execution_count": 12,
     "metadata": {},
     "output_type": "execute_result"
    }
   ],
   "source": [
    "# 문자열 삽입\n",
    "str= ','\n",
    "str.join('abcdefg')"
   ]
  },
  {
   "cell_type": "code",
   "execution_count": 13,
   "id": "2b51d298",
   "metadata": {},
   "outputs": [
    {
     "data": {
      "text/plain": [
       "'HI'"
      ]
     },
     "execution_count": 13,
     "metadata": {},
     "output_type": "execute_result"
    }
   ],
   "source": [
    "#소문자를 대문자로 변경\n",
    "str = 'hi'\n",
    "str.upper()\n",
    "'hi'.upper()"
   ]
  },
  {
   "cell_type": "code",
   "execution_count": 14,
   "id": "f111b035",
   "metadata": {},
   "outputs": [
    {
     "data": {
      "text/plain": [
       "'hi'"
      ]
     },
     "execution_count": 14,
     "metadata": {},
     "output_type": "execute_result"
    }
   ],
   "source": [
    "# 대문자를 소문자로\n",
    "\n",
    "str = 'HI'\n",
    "str.lower()\n"
   ]
  },
  {
   "cell_type": "code",
   "execution_count": 15,
   "id": "b76c28ce",
   "metadata": {},
   "outputs": [
    {
     "data": {
      "text/plain": [
       "'hi'"
      ]
     },
     "execution_count": 15,
     "metadata": {},
     "output_type": "execute_result"
    }
   ],
   "source": [
    "# 왼쪽 공백 지우기\n",
    "str = '        hi'\n",
    "str.lstrip()\n"
   ]
  },
  {
   "cell_type": "code",
   "execution_count": 16,
   "id": "65133f09",
   "metadata": {},
   "outputs": [
    {
     "data": {
      "text/plain": [
       "'hi'"
      ]
     },
     "execution_count": 16,
     "metadata": {},
     "output_type": "execute_result"
    }
   ],
   "source": [
    "#공백 지우기\n",
    "str = 'hi       '\n",
    "str.rstrip()"
   ]
  },
  {
   "cell_type": "code",
   "execution_count": 17,
   "id": "659f78f8",
   "metadata": {},
   "outputs": [
    {
     "data": {
      "text/plain": [
       "'hi'"
      ]
     },
     "execution_count": 17,
     "metadata": {},
     "output_type": "execute_result"
    }
   ],
   "source": [
    "#양쪽 공백 지우기\n",
    "str = '     hi       '\n",
    "str.strip()\n"
   ]
  },
  {
   "cell_type": "code",
   "execution_count": 18,
   "id": "debc6a87",
   "metadata": {},
   "outputs": [
    {
     "data": {
      "text/plain": [
       "'Life is too short to be unhappy'"
      ]
     },
     "execution_count": 18,
     "metadata": {},
     "output_type": "execute_result"
    }
   ],
   "source": [
    "#문자열 바꾸기\n",
    "str = 'Life is too short to be happy'\n",
    "str.replace('happy', 'unhappy')"
   ]
  },
  {
   "cell_type": "code",
   "execution_count": 20,
   "id": "fc5e202a",
   "metadata": {},
   "outputs": [
    {
     "data": {
      "text/plain": [
       "'Life is too short to be happy'"
      ]
     },
     "execution_count": 20,
     "metadata": {},
     "output_type": "execute_result"
    }
   ],
   "source": [
    "#문자열 나누기 많이사용!\n",
    "str "
   ]
  },
  {
   "cell_type": "code",
   "execution_count": 23,
   "id": "9b50a40c",
   "metadata": {},
   "outputs": [
    {
     "name": "stdout",
     "output_type": "stream",
     "text": [
      "['Life', 'is', 'too', 'short', 'to', 'be', 'happy']\n"
     ]
    }
   ],
   "source": [
    "list01 = str.split()\n",
    "print(list01)"
   ]
  },
  {
   "cell_type": "code",
   "execution_count": 26,
   "id": "90e634b6",
   "metadata": {},
   "outputs": [
    {
     "data": {
      "text/plain": [
       "'2021Life'"
      ]
     },
     "execution_count": 26,
     "metadata": {},
     "output_type": "execute_result"
    }
   ],
   "source": [
    "str01 = '2021-12-31'\n",
    "str01.split('-')[0] + list01[0]"
   ]
  },
  {
   "cell_type": "code",
   "execution_count": 29,
   "id": "ae460fc3",
   "metadata": {},
   "outputs": [
    {
     "name": "stdout",
     "output_type": "stream",
     "text": [
      "<class 'list'>\n",
      "<class 'str'>\n"
     ]
    }
   ],
   "source": [
    "print(type(list01))\n",
    "print(type(str01))"
   ]
  },
  {
   "cell_type": "markdown",
   "id": "9d4e9123",
   "metadata": {},
   "source": [
    "# 날짜형 변환"
   ]
  },
  {
   "cell_type": "code",
   "execution_count": 30,
   "id": "6ee78115",
   "metadata": {},
   "outputs": [],
   "source": [
    "from datetime import datetime, timedelta # 날짜형 모듈 불러오기"
   ]
  },
  {
   "cell_type": "code",
   "execution_count": 36,
   "id": "319ca61b",
   "metadata": {},
   "outputs": [
    {
     "data": {
      "text/plain": [
       "datetime.datetime"
      ]
     },
     "execution_count": 36,
     "metadata": {},
     "output_type": "execute_result"
    }
   ],
   "source": [
    "time1 = datetime(2021,12,31,12,0,0,0)\n",
    "type(time1)"
   ]
  },
  {
   "cell_type": "code",
   "execution_count": 37,
   "id": "d917a27a",
   "metadata": {},
   "outputs": [
    {
     "name": "stdout",
     "output_type": "stream",
     "text": [
      "174 days, 21:13:31.853372\n"
     ]
    }
   ],
   "source": [
    "#날짜 계산하기\n",
    "time2 = datetime.now()\n",
    "print(time1-time2)"
   ]
  },
  {
   "cell_type": "code",
   "execution_count": 39,
   "id": "9b1a9ceb",
   "metadata": {},
   "outputs": [
    {
     "name": "stdout",
     "output_type": "stream",
     "text": [
      "두 날짜의 차이는 \n",
      "174 일\n"
     ]
    }
   ],
   "source": [
    "#좀 더 편리하게 출력\n",
    "print('두 날짜의 차이는 ' )\n",
    "print((time1 - time2).days, '일')"
   ]
  },
  {
   "cell_type": "code",
   "execution_count": 47,
   "id": "fb4ae214",
   "metadata": {},
   "outputs": [
    {
     "name": "stdout",
     "output_type": "stream",
     "text": [
      "현재 시간부터 5일 뒤\n",
      "2021-07-14 14:46:28.146628\n",
      "현재 시간부터 5일 전\n",
      "2021-07-04 14:46:28.146628\n",
      "2021-07-10 12:54:58.601592\n"
     ]
    }
   ],
   "source": [
    "# 특정 날짜로 부터 시간 계산\n",
    "print('현재 시간부터 5일 뒤')\n",
    "print(time2 + timedelta(days=5))\n",
    "print('현재 시간부터 5일 전')\n",
    "print(time2 + timedelta(days=-5))\n",
    "\n",
    "# 현재 시간부터 1일 뒤의 2시간 전\n",
    "print(datetime.now() + timedelta(days=1, hours=-2))"
   ]
  },
  {
   "cell_type": "code",
   "execution_count": null,
   "id": "81dd14f2",
   "metadata": {},
   "outputs": [],
   "source": []
  }
 ],
 "metadata": {
  "kernelspec": {
   "display_name": "Python 3",
   "language": "python",
   "name": "python3"
  },
  "language_info": {
   "codemirror_mode": {
    "name": "ipython",
    "version": 3
   },
   "file_extension": ".py",
   "mimetype": "text/x-python",
   "name": "python",
   "nbconvert_exporter": "python",
   "pygments_lexer": "ipython3",
   "version": "3.8.8"
  }
 },
 "nbformat": 4,
 "nbformat_minor": 5
}
