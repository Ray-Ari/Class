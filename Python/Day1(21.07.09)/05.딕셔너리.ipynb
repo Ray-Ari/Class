{
 "cells": [
  {
   "cell_type": "markdown",
   "id": "c6134da3",
   "metadata": {},
   "source": [
    "# 딕셔너리 (Dictionary)\n",
    "\n",
    ":순서가 정해있지 않고 key를 통해 value를 얻는다.\n"
   ]
  },
  {
   "cell_type": "code",
   "execution_count": null,
   "id": "7fe242f4",
   "metadata": {},
   "outputs": [],
   "source": [
    "#Dictionary 생성하기\n",
    "dic = {'name' : 'petty' , 'phone' : '010-2122-1221', 'birth':'1231'}\n",
    "dic['name']"
   ]
  },
  {
   "cell_type": "code",
   "execution_count": null,
   "id": "7cb9a336",
   "metadata": {},
   "outputs": [],
   "source": [
    "dic['birth']"
   ]
  },
  {
   "cell_type": "code",
   "execution_count": null,
   "id": "e8f70ce4",
   "metadata": {},
   "outputs": [],
   "source": [
    "dic1 = {'a' : [1,2,3]}\n",
    "print(dic1['a'])\n",
    "print(dic1['a'][0])"
   ]
  },
  {
   "cell_type": "code",
   "execution_count": null,
   "id": "193772af",
   "metadata": {},
   "outputs": [],
   "source": [
    "#데이터 추가\n",
    "dic1['b'] = 'bbb'\n",
    "dic1['name']  = 'petty'\n",
    "print(dic1)"
   ]
  },
  {
   "cell_type": "code",
   "execution_count": null,
   "id": "4af49f89",
   "metadata": {},
   "outputs": [],
   "source": [
    "del dic1['b']\n",
    "dic1"
   ]
  },
  {
   "cell_type": "markdown",
   "id": "1a81a67a",
   "metadata": {},
   "source": [
    "# 딕셔너리 관련 함수"
   ]
  },
  {
   "cell_type": "code",
   "execution_count": 1,
   "id": "da47ad4e",
   "metadata": {},
   "outputs": [
    {
     "data": {
      "text/plain": [
       "dict_keys(['name', 'phone', 'birth'])"
      ]
     },
     "execution_count": 1,
     "metadata": {},
     "output_type": "execute_result"
    }
   ],
   "source": [
    "dic = {'name' : 'petty' , 'phone' : '010-2122-1221', 'birth':'1231'}\n",
    "dic.keys()"
   ]
  },
  {
   "cell_type": "code",
   "execution_count": null,
   "id": "4a8ff885",
   "metadata": {},
   "outputs": [],
   "source": [
    "for k in dic.keys() : \n",
    "    print(k)"
   ]
  },
  {
   "cell_type": "code",
   "execution_count": null,
   "id": "356ab67b",
   "metadata": {},
   "outputs": [],
   "source": [
    "#dic.keys를 list로 변환\n",
    "dic_list = list(dic.keys())\n",
    "dic_list[0]"
   ]
  },
  {
   "cell_type": "code",
   "execution_count": null,
   "id": "537543bb",
   "metadata": {},
   "outputs": [],
   "source": [
    "#Value\n",
    "dic.values()"
   ]
  },
  {
   "cell_type": "code",
   "execution_count": null,
   "id": "0a561243",
   "metadata": {},
   "outputs": [],
   "source": [
    "dic_value = list(dic.values())\n",
    "dic_value[0]"
   ]
  },
  {
   "cell_type": "code",
   "execution_count": null,
   "id": "7ae9e155",
   "metadata": {},
   "outputs": [],
   "source": [
    "# key, value를 함께 얻기\n",
    "dic.items()"
   ]
  },
  {
   "cell_type": "code",
   "execution_count": null,
   "id": "a098442e",
   "metadata": {},
   "outputs": [],
   "source": [
    "for i in dic.items() : \n",
    "    print(i[0], \":\", i[1])"
   ]
  },
  {
   "cell_type": "code",
   "execution_count": 3,
   "id": "bcbc120c",
   "metadata": {},
   "outputs": [
    {
     "name": "stdout",
     "output_type": "stream",
     "text": [
      "name : petty\n"
     ]
    }
   ],
   "source": [
    "# dic.items를 list로 변환하기\n",
    "# name : petty\n",
    "\n",
    "item_list = list(dic.items())\n",
    "print(item_list[0][0], \":\", item_list[0][1])"
   ]
  },
  {
   "cell_type": "code",
   "execution_count": null,
   "id": "415a2475",
   "metadata": {},
   "outputs": [],
   "source": [
    "# 지우기\n",
    "dic.clear()\n",
    "dic"
   ]
  },
  {
   "cell_type": "code",
   "execution_count": null,
   "id": "ba318330",
   "metadata": {},
   "outputs": [],
   "source": [
    "dic = {'name' : 'petty' , 'phone' : '010-2122-1221', 'birth':'1231'}\n",
    "print('name' in dic)\n",
    "print('mail' in dic)"
   ]
  },
  {
   "cell_type": "code",
   "execution_count": null,
   "id": "c290fc85",
   "metadata": {},
   "outputs": [],
   "source": []
  }
 ],
 "metadata": {
  "kernelspec": {
   "display_name": "Python 3",
   "language": "python",
   "name": "python3"
  },
  "language_info": {
   "codemirror_mode": {
    "name": "ipython",
    "version": 3
   },
   "file_extension": ".py",
   "mimetype": "text/x-python",
   "name": "python",
   "nbconvert_exporter": "python",
   "pygments_lexer": "ipython3",
   "version": "3.8.8"
  }
 },
 "nbformat": 4,
 "nbformat_minor": 5
}
