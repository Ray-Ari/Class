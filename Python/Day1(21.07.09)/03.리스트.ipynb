{
 "cells": [
  {
   "cell_type": "markdown",
   "id": "e015d68f",
   "metadata": {},
   "source": [
    "# 리스트(list) 자료형\n",
    "- 숫자나 문자들의 모음을 하나의 자료형으로 표현하기 사용\n",
    "- format : listNmae = [e1,e2...]\n",
    "\n",
    "## 리스트 자료형 선언"
   ]
  },
  {
   "cell_type": "code",
   "execution_count": null,
   "id": "7eee46b2",
   "metadata": {},
   "outputs": [],
   "source": [
    "var01 = []\n",
    "var02 = [1,2,3]\n",
    "var03 = ['I',\"have\",'a', 'dream']\n",
    "var04 = [1,2,'dream', 'True']\n",
    "var05 = [1,2, ['Dream', \"true\"]]"
   ]
  },
  {
   "cell_type": "markdown",
   "id": "451e005f",
   "metadata": {},
   "source": [
    "# 리스트의 indexing과 Slicing"
   ]
  },
  {
   "cell_type": "code",
   "execution_count": null,
   "id": "616d635f",
   "metadata": {},
   "outputs": [],
   "source": [
    "print(var01)\n",
    "print(var02)\n",
    "print(var03)\n",
    "print(var04)\n",
    "print(var05)\n",
    "\n",
    "print(var05[2])\n",
    "print(var05[2][0])"
   ]
  },
  {
   "cell_type": "code",
   "execution_count": null,
   "id": "8417f98a",
   "metadata": {},
   "outputs": [],
   "source": [
    "#리스트의 계산\n",
    "var02[0] + var02[1]"
   ]
  },
  {
   "cell_type": "code",
   "execution_count": null,
   "id": "7efb395a",
   "metadata": {},
   "outputs": [],
   "source": [
    "# 3중 리스트에서 indexing\n",
    "var = [1,2,['a','b',['Dream',\"True\"]]]\n",
    "print(var[-1][-1][0])"
   ]
  },
  {
   "cell_type": "code",
   "execution_count": null,
   "id": "61efa93e",
   "metadata": {},
   "outputs": [],
   "source": [
    "print(var[2:])"
   ]
  },
  {
   "cell_type": "markdown",
   "id": "a79d32ef",
   "metadata": {},
   "source": [
    "# 리스트 연산"
   ]
  },
  {
   "cell_type": "code",
   "execution_count": 20,
   "id": "e3f08d5c",
   "metadata": {},
   "outputs": [
    {
     "data": {
      "text/plain": [
       "[1, 2, 3, 4, 5, 6]"
      ]
     },
     "execution_count": 20,
     "metadata": {},
     "output_type": "execute_result"
    }
   ],
   "source": [
    "#리스트의 숫자 합치기 덧셈 아님!\n",
    "var01 = [1,2,3]\n",
    "var02 = [4,5,6]\n",
    "var01 + var02"
   ]
  },
  {
   "cell_type": "code",
   "execution_count": 23,
   "id": "3f0cb947",
   "metadata": {},
   "outputs": [
    {
     "name": "stdout",
     "output_type": "stream",
     "text": [
      "6\n",
      "5\n",
      "7\n",
      "9\n"
     ]
    }
   ],
   "source": [
    "#리스트의 덧셈\n",
    "t = 0\n",
    "\n",
    "for i in range(0,3):\n",
    "    t += var01[i]\n",
    "    \n",
    "print(t)\n",
    "\n",
    "for i in range(0, 3):\n",
    "    print(var01[i] + var02[i])"
   ]
  },
  {
   "cell_type": "code",
   "execution_count": null,
   "id": "c626a015",
   "metadata": {},
   "outputs": [],
   "source": [
    "#리스트의 숫자 반복\n",
    "var01 * 3"
   ]
  },
  {
   "cell_type": "code",
   "execution_count": null,
   "id": "c122fb59",
   "metadata": {},
   "outputs": [],
   "source": [
    "#리스트의 곱셈\n",
    "#var01의 data를 10배 계산하여 출력하기\n",
    "#10\n",
    "#20\n",
    "#30\n",
    "\n",
    "for i in var01 :\n",
    "    print(i*10)\n",
    "    "
   ]
  },
  {
   "cell_type": "code",
   "execution_count": null,
   "id": "2a8761b3",
   "metadata": {},
   "outputs": [],
   "source": [
    "#리스트의 타입 변환\n",
    "var = [1,2,3]\n",
    "print(str(var[2])+ \"hi!\")"
   ]
  },
  {
   "cell_type": "markdown",
   "id": "4d334de2",
   "metadata": {},
   "source": [
    "# 리스트의 수정과 삭제\n"
   ]
  },
  {
   "cell_type": "code",
   "execution_count": 14,
   "id": "94c6f0f6",
   "metadata": {},
   "outputs": [
    {
     "data": {
      "text/plain": [
       "[1, 2, 4]"
      ]
     },
     "execution_count": 14,
     "metadata": {},
     "output_type": "execute_result"
    }
   ],
   "source": [
    "var = [1,2,3]\n",
    "var[2] = 4\n",
    "var"
   ]
  },
  {
   "cell_type": "code",
   "execution_count": 15,
   "id": "c53eab47",
   "metadata": {},
   "outputs": [
    {
     "data": {
      "text/plain": [
       "[1, 'a', 'b', 'c', 4]"
      ]
     },
     "execution_count": 15,
     "metadata": {},
     "output_type": "execute_result"
    }
   ],
   "source": [
    "var[1:2] = ['a','b','c']\n",
    "var"
   ]
  },
  {
   "cell_type": "code",
   "execution_count": 13,
   "id": "80cd5626",
   "metadata": {},
   "outputs": [
    {
     "data": {
      "text/plain": [
       "[1, 'c', 4]"
      ]
     },
     "execution_count": 13,
     "metadata": {},
     "output_type": "execute_result"
    }
   ],
   "source": [
    "#1~2번지의 데이터를 지우기\n",
    "var[1:3] = []\n",
    "var"
   ]
  },
  {
   "cell_type": "code",
   "execution_count": 16,
   "id": "5e0bb5f9",
   "metadata": {},
   "outputs": [
    {
     "data": {
      "text/plain": [
       "[1, 'c', 4]"
      ]
     },
     "execution_count": 16,
     "metadata": {},
     "output_type": "execute_result"
    }
   ],
   "source": [
    "del var[1:3]\n",
    "var"
   ]
  },
  {
   "cell_type": "code",
   "execution_count": 26,
   "id": "9afe76c2",
   "metadata": {},
   "outputs": [
    {
     "data": {
      "text/plain": [
       "[1, 2, 3, 4]"
      ]
     },
     "execution_count": 26,
     "metadata": {},
     "output_type": "execute_result"
    }
   ],
   "source": [
    "# 리스트에 요소추가\n",
    "var = [1,2,3]\n",
    "var.append(4)\n",
    "var"
   ]
  },
  {
   "cell_type": "code",
   "execution_count": 29,
   "id": "6210bae8",
   "metadata": {},
   "outputs": [
    {
     "data": {
      "text/plain": [
       "[1, 2, 3, 4, [5, 6], [5, 6], [5, 6]]"
      ]
     },
     "execution_count": 29,
     "metadata": {},
     "output_type": "execute_result"
    }
   ],
   "source": [
    "var.append([5,6])\n",
    "var"
   ]
  },
  {
   "cell_type": "code",
   "execution_count": 31,
   "id": "2fbb51ff",
   "metadata": {},
   "outputs": [
    {
     "name": "stdout",
     "output_type": "stream",
     "text": [
      "[1, 4, 3, 2]\n",
      "[1, 2, 3, 4]\n",
      "[4, 3, 2, 1]\n",
      "4\n",
      "1\n"
     ]
    }
   ],
   "source": [
    "# 리스트의 정렬\n",
    "var = [1,4,3,2]\n",
    "print(var)\n",
    "\n",
    "#오름차순\n",
    "var.sort()\n",
    "print(var)\n",
    "\n",
    "var.reverse()\n",
    "print(var)\n",
    "\n",
    "print(max(var))\n",
    "print(min(var))\n"
   ]
  },
  {
   "cell_type": "code",
   "execution_count": 32,
   "id": "4b80bc55",
   "metadata": {},
   "outputs": [
    {
     "name": "stdout",
     "output_type": "stream",
     "text": [
      "['국', '대', '민', '한']\n",
      "['한', '민', '대', '국']\n"
     ]
    }
   ],
   "source": [
    "# 리스트 문자정렬 : 한글\n",
    "var = ['대','한','민','국']\n",
    "\n",
    "#오름차순\n",
    "#오름차순\n",
    "var.sort()\n",
    "print(var)\n",
    "\n",
    "#내림차순\n",
    "var.reverse()\n",
    "print(var)\n"
   ]
  },
  {
   "cell_type": "code",
   "execution_count": 33,
   "id": "b7b4bb5a",
   "metadata": {},
   "outputs": [
    {
     "data": {
      "text/plain": [
       "1"
      ]
     },
     "execution_count": 33,
     "metadata": {},
     "output_type": "execute_result"
    }
   ],
   "source": [
    "# 리스트의 위치 정보\n",
    "var = [4,5,6]\n",
    "var.index(5)"
   ]
  },
  {
   "cell_type": "code",
   "execution_count": 34,
   "id": "7de52d59",
   "metadata": {},
   "outputs": [
    {
     "data": {
      "text/plain": [
       "[4, 1, 2, 3]"
      ]
     },
     "execution_count": 34,
     "metadata": {},
     "output_type": "execute_result"
    }
   ],
   "source": [
    "# 리스트의 요소 삽입\n",
    "var = [1,2,3]\n",
    "var.insert(0,4)\n",
    "var"
   ]
  },
  {
   "cell_type": "code",
   "execution_count": 35,
   "id": "5fcd824e",
   "metadata": {},
   "outputs": [
    {
     "data": {
      "text/plain": [
       "[1, 2, 3, 5, 6]"
      ]
     },
     "execution_count": 35,
     "metadata": {},
     "output_type": "execute_result"
    }
   ],
   "source": [
    "# 리스트의 요소제거\n",
    "var = [1,2,3,4,5,6]\n",
    "\n",
    "# 데이터(요소)가 4인것 제거\n",
    "var.remove(4)\n",
    "var"
   ]
  },
  {
   "cell_type": "code",
   "execution_count": 37,
   "id": "059068a2",
   "metadata": {},
   "outputs": [
    {
     "name": "stdout",
     "output_type": "stream",
     "text": [
      "3\n",
      "[1, 2]\n"
     ]
    }
   ],
   "source": [
    "# 리스트 요소 끄집어 내기 /맨뒤에꺼를 꺼냄.\n",
    "\n",
    "var = [1,2,3]\n",
    "print(var.pop())\n",
    "print(var)\n"
   ]
  },
  {
   "cell_type": "code",
   "execution_count": 38,
   "id": "f3d658a7",
   "metadata": {},
   "outputs": [
    {
     "name": "stdout",
     "output_type": "stream",
     "text": [
      "3\n",
      "2\n",
      "1\n",
      "[]\n"
     ]
    }
   ],
   "source": [
    "# for문을 사용한 pop\n",
    "var = [1,2,3]\n",
    "\n",
    "for i in range(0, 3):\n",
    "    print(var.pop())\n",
    "    \n",
    "print(var)\n",
    "    "
   ]
  },
  {
   "cell_type": "code",
   "execution_count": 41,
   "id": "7abb4543",
   "metadata": {},
   "outputs": [
    {
     "data": {
      "text/plain": [
       "[1, 2, 3, 4, 5, 6]"
      ]
     },
     "execution_count": 41,
     "metadata": {},
     "output_type": "execute_result"
    }
   ],
   "source": [
    "# 리스트의 확장\n",
    "var = [1,2,3,4]\n",
    "var1 = [5,6]\n",
    "var + var1\n",
    "var.extend(var1)\n",
    "var"
   ]
  },
  {
   "cell_type": "code",
   "execution_count": null,
   "id": "085c72db",
   "metadata": {},
   "outputs": [],
   "source": []
  },
  {
   "cell_type": "code",
   "execution_count": null,
   "id": "24ffc070",
   "metadata": {},
   "outputs": [],
   "source": []
  },
  {
   "cell_type": "code",
   "execution_count": null,
   "id": "52d3e33d",
   "metadata": {},
   "outputs": [],
   "source": []
  },
  {
   "cell_type": "code",
   "execution_count": null,
   "id": "39e26af8",
   "metadata": {},
   "outputs": [],
   "source": []
  },
  {
   "cell_type": "code",
   "execution_count": null,
   "id": "291308c1",
   "metadata": {},
   "outputs": [],
   "source": []
  },
  {
   "cell_type": "code",
   "execution_count": null,
   "id": "3077f61c",
   "metadata": {},
   "outputs": [],
   "source": []
  },
  {
   "cell_type": "code",
   "execution_count": null,
   "id": "aa8a61c1",
   "metadata": {},
   "outputs": [],
   "source": []
  }
 ],
 "metadata": {
  "kernelspec": {
   "display_name": "Python 3",
   "language": "python",
   "name": "python3"
  },
  "language_info": {
   "codemirror_mode": {
    "name": "ipython",
    "version": 3
   },
   "file_extension": ".py",
   "mimetype": "text/x-python",
   "name": "python",
   "nbconvert_exporter": "python",
   "pygments_lexer": "ipython3",
   "version": "3.8.8"
  }
 },
 "nbformat": 4,
 "nbformat_minor": 5
}
