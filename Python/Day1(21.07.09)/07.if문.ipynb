{
 "cells": [
  {
   "cell_type": "code",
   "execution_count": 1,
   "id": "4425dc45",
   "metadata": {},
   "outputs": [],
   "source": [
    "from random import randint"
   ]
  },
  {
   "cell_type": "code",
   "execution_count": 6,
   "id": "579394da",
   "metadata": {},
   "outputs": [
    {
     "name": "stdout",
     "output_type": "stream",
     "text": [
      "69 is greater than 50\n",
      "---end---\n"
     ]
    }
   ],
   "source": [
    "#if\n",
    "x = randint(1,100)\n",
    "x\n",
    "\n",
    "if x > 50 : \n",
    "    print(str(x), \"is greater than 50\")\n",
    "    \n",
    "print(\"---end---\")"
   ]
  },
  {
   "cell_type": "code",
   "execution_count": null,
   "id": "78b482bf",
   "metadata": {},
   "outputs": [],
   "source": [
    "# if else\n",
    "x = randint(1,100)\n",
    "\n",
    "if x > 50 : \n",
    "    print(str(x), \"is greater than 50\")\n",
    "else : \n",
    "    print(str(x), \"is less or equal to 50\")\n",
    "    \n",
    "print(\"---end---\")    \n",
    "    "
   ]
  },
  {
   "cell_type": "code",
   "execution_count": 10,
   "id": "27f26458",
   "metadata": {},
   "outputs": [
    {
     "name": "stdout",
     "output_type": "stream",
     "text": [
      "22 is less than 50\n",
      "---end---\n"
     ]
    }
   ],
   "source": [
    "# if elif else\n",
    "x = randint(1,100)\n",
    "\n",
    "if x > 50 : \n",
    "    print(str(x), \"is greater than 50\")\n",
    "elif x == 50 : \n",
    "    print(str(x), \"is equal to 50\")\n",
    "else : \n",
    "    print(str(x), \"is less than 50\")\n",
    "    \n",
    "print(\"---end---\")    \n"
   ]
  },
  {
   "cell_type": "code",
   "execution_count": 14,
   "id": "3bc53fa8",
   "metadata": {},
   "outputs": [
    {
     "name": "stdout",
     "output_type": "stream",
     "text": [
      "숫자를 입력하세요23\n",
      "23은 홀수 입니다\n"
     ]
    }
   ],
   "source": [
    "#사용자로 부터 숫자를 입력 받아 홀짝수 구분\n",
    "#ex : 23은 홀수입니다.\n",
    "x = int(input(\"숫자를 입력하세요\"))\n",
    "\n",
    "if x%2 == 0 :\n",
    "    print( str(x) + \"은 짝수 입니다\")\n",
    "else :\n",
    "    print( str(x) + \"은 홀수 입니다\")"
   ]
  },
  {
   "cell_type": "code",
   "execution_count": 22,
   "id": "06b75aa8",
   "metadata": {},
   "outputs": [
    {
     "name": "stdout",
     "output_type": "stream",
     "text": [
      "점수를 입력하세요44\n"
     ]
    },
    {
     "ename": "TypeError",
     "evalue": "can only concatenate str (not \"int\") to str",
     "output_type": "error",
     "traceback": [
      "\u001b[0;31m---------------------------------------------------------------------------\u001b[0m",
      "\u001b[0;31mTypeError\u001b[0m                                 Traceback (most recent call last)",
      "\u001b[0;32m<ipython-input-22-4290ea15eff5>\u001b[0m in \u001b[0;36m<module>\u001b[0;34m\u001b[0m\n\u001b[1;32m      3\u001b[0m \u001b[0mx\u001b[0m \u001b[0;34m=\u001b[0m \u001b[0mint\u001b[0m\u001b[0;34m(\u001b[0m\u001b[0minput\u001b[0m\u001b[0;34m(\u001b[0m\u001b[0;34m\"점수를 입력하세요\"\u001b[0m\u001b[0;34m)\u001b[0m\u001b[0;34m)\u001b[0m\u001b[0;34m\u001b[0m\u001b[0;34m\u001b[0m\u001b[0m\n\u001b[1;32m      4\u001b[0m \u001b[0;34m\u001b[0m\u001b[0m\n\u001b[0;32m----> 5\u001b[0;31m \u001b[0mprint\u001b[0m\u001b[0;34m(\u001b[0m\u001b[0;34m\"점수는 \"\u001b[0m \u001b[0;34m+\u001b[0m \u001b[0mx\u001b[0m \u001b[0;34m+\u001b[0m \u001b[0;34m\"점이고 \"\u001b[0m\u001b[0;34m,\u001b[0m \u001b[0mend\u001b[0m \u001b[0;34m=\u001b[0m \u001b[0;34m\"\"\u001b[0m\u001b[0;34m)\u001b[0m\u001b[0;34m\u001b[0m\u001b[0;34m\u001b[0m\u001b[0m\n\u001b[0m\u001b[1;32m      6\u001b[0m \u001b[0;32mif\u001b[0m \u001b[0mx\u001b[0m \u001b[0;34m>=\u001b[0m \u001b[0;36m90\u001b[0m \u001b[0;34m:\u001b[0m\u001b[0;34m\u001b[0m\u001b[0;34m\u001b[0m\u001b[0m\n\u001b[1;32m      7\u001b[0m     \u001b[0mprint\u001b[0m\u001b[0;34m(\u001b[0m \u001b[0;34m\"A\"\u001b[0m\u001b[0;34m,\u001b[0m \u001b[0mend\u001b[0m\u001b[0;34m=\u001b[0m\u001b[0;34m\"\"\u001b[0m\u001b[0;34m)\u001b[0m\u001b[0;34m\u001b[0m\u001b[0;34m\u001b[0m\u001b[0m\n",
      "\u001b[0;31mTypeError\u001b[0m: can only concatenate str (not \"int\") to str"
     ]
    }
   ],
   "source": [
    "#사용자로 부터 점수를 입력 받아 학점 등급을 계산하여 출력하기\n",
    "#ex : 점수는 89점이고 B학점 입니다.\n",
    "x = int(input(\"점수를 입력하세요\"))\n",
    "\n",
    "print(\"점수는 \" + str(x) + \"점이고 \", end = \"\")\n",
    "if x >= 90 :\n",
    "    print( \"A\", end=\"\")\n",
    "elif x>=80 :\n",
    "    print( \"B\", end=\"\")\n",
    "elif x>=70 :\n",
    "    print( \"C\", end=\"\")\n",
    "elif x>=60 :\n",
    "    print( \"D\", end=\"\")\n",
    "else :\n",
    "    print( \"F\", end=\"\")\n",
    "print(\" 학점 입니다\")\n",
    "    \n",
    "    \n",
    "    \n",
    "    "
   ]
  },
  {
   "cell_type": "code",
   "execution_count": null,
   "id": "483613c1",
   "metadata": {},
   "outputs": [],
   "source": []
  },
  {
   "cell_type": "code",
   "execution_count": null,
   "id": "40fd4543",
   "metadata": {},
   "outputs": [],
   "source": []
  },
  {
   "cell_type": "code",
   "execution_count": null,
   "id": "982066d9",
   "metadata": {},
   "outputs": [],
   "source": []
  },
  {
   "cell_type": "code",
   "execution_count": null,
   "id": "5f7ca589",
   "metadata": {},
   "outputs": [],
   "source": []
  },
  {
   "cell_type": "code",
   "execution_count": null,
   "id": "da6a734c",
   "metadata": {},
   "outputs": [],
   "source": []
  }
 ],
 "metadata": {
  "kernelspec": {
   "display_name": "Python 3",
   "language": "python",
   "name": "python3"
  },
  "language_info": {
   "codemirror_mode": {
    "name": "ipython",
    "version": 3
   },
   "file_extension": ".py",
   "mimetype": "text/x-python",
   "name": "python",
   "nbconvert_exporter": "python",
   "pygments_lexer": "ipython3",
   "version": "3.8.8"
  }
 },
 "nbformat": 4,
 "nbformat_minor": 5
}
