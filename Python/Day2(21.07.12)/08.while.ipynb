{
 "cells": [
  {
   "cell_type": "code",
   "execution_count": null,
   "id": "c22c90f1",
   "metadata": {},
   "outputs": [],
   "source": [
    "treeHit = 0 #꼭 정의 해줘야 함!\n",
    "\n",
    "while treeHit < 10 :\n",
    "    treeHit += 1\n",
    "    print('나무를 %d번 찍었습니다.' %treeHit )\n",
    "    if(treeHit == 10) :\n",
    "        print(\"나무 넘어 갑니다.\")"
   ]
  },
  {
   "cell_type": "code",
   "execution_count": null,
   "id": "2807fe88",
   "metadata": {},
   "outputs": [],
   "source": [
    "#선택하는 메뉴 만들기!\n",
    "prompt = \"\"\"\n",
    "    1. 덧셈\n",
    "    2. 뺄셈\n",
    "    3. 곱셈\n",
    "    4. 나눗셈\n",
    "    5. 종료\n",
    "    \n",
    "    숫자를 입력하세요!\n",
    "\"\"\""
   ]
  },
  {
   "cell_type": "code",
   "execution_count": null,
   "id": "8f1e9a86",
   "metadata": {},
   "outputs": [],
   "source": [
    "number = 0\n",
    "while number != 5 :\n",
    "    print(prompt)\n",
    "    number = int(input())"
   ]
  },
  {
   "cell_type": "code",
   "execution_count": null,
   "id": "84540039",
   "metadata": {},
   "outputs": [],
   "source": [
    "#break 문을 사용하여 var가 5인경우 while문 빠져나가기 // break는 if문 사용불가!\n",
    "\n",
    "var = 0 \n",
    "while var < 10 :\n",
    "    print(var)\n",
    "    var += 1\n",
    "    if var ==5 :\n",
    "        break"
   ]
  },
  {
   "cell_type": "code",
   "execution_count": null,
   "id": "576aa2fe",
   "metadata": {},
   "outputs": [],
   "source": [
    "#continue : 10보다 작은 수중 5인 경우에만 출력 안하고 나머지 숫자는 출력하기\n",
    "\n",
    "var = 0\n",
    "while var <10 :\n",
    "    var +=1\n",
    "    if var ==5:\n",
    "        continue # 밑으로 안가고 다시 while문으로 들어감!\n",
    "    print(var)"
   ]
  },
  {
   "cell_type": "code",
   "execution_count": null,
   "id": "ab3e9553",
   "metadata": {},
   "outputs": [],
   "source": [
    "#continue문을 사용하여 1~10의 숫자중 홀수만 출력하기\n",
    "\n",
    "var = 0 \n",
    "while var < 10 :\n",
    "    var +=1\n",
    "    if (var % 2) == 0 :\n",
    "        continue\n",
    "    print(var)    "
   ]
  },
  {
   "cell_type": "code",
   "execution_count": null,
   "id": "14c08c42",
   "metadata": {},
   "outputs": [],
   "source": [
    "#점수가 80점 이상이면 우수, 나머지는 노력으로 출력\n",
    "\n",
    "scores = [78, 85, 95, 65]\n",
    "var = 0\n",
    "while var < len(scores) :\n",
    "    if scores[var] >= 80 :\n",
    "        print(\"우수\")\n",
    "    else :\n",
    "        print(\"노력\")\n",
    "        \n",
    "    var += 1\n",
    "    "
   ]
  },
  {
   "cell_type": "code",
   "execution_count": null,
   "id": "c125ffe9",
   "metadata": {},
   "outputs": [],
   "source": [
    "#점수가 80점 이상이면 우수, 나머지는 노력으로 출력\n",
    "\n",
    "scores = [78, 85, 95, 65]\n",
    "var = 0\n",
    "\n",
    "while scores : \n",
    "#    print(scores.pop(var)) #뒤에꺼 부터 출력됨!\n",
    "    score = scores.pop(var)\n",
    "    \n",
    "    if score >= 80 :\n",
    "        print('우수')\n",
    "    else :\n",
    "        print('노력')"
   ]
  },
  {
   "cell_type": "code",
   "execution_count": null,
   "id": "0efb7658",
   "metadata": {},
   "outputs": [],
   "source": [
    "#평균 구하기\n",
    "scores = [78,85,95,65]\n",
    "\n",
    "list_length = len(scores)\n",
    "total = 0\n",
    "\n",
    "while scores:\n",
    "    total += scores.pop()\n",
    "    \n",
    "print(total / list_length)\n"
   ]
  },
  {
   "cell_type": "code",
   "execution_count": 4,
   "id": "dbc37def",
   "metadata": {},
   "outputs": [],
   "source": [
    "#계산에 많이 쓰임!(수학함수)\n",
    "import numpy as np"
   ]
  },
  {
   "cell_type": "code",
   "execution_count": null,
   "id": "0504879a",
   "metadata": {},
   "outputs": [],
   "source": [
    "#평균 구하기\n",
    "scores = [78,85,95,65]\n",
    "\n",
    "np.mean(scores) #평균"
   ]
  },
  {
   "cell_type": "code",
   "execution_count": 7,
   "id": "3ddacbb3",
   "metadata": {},
   "outputs": [
    {
     "name": "stdout",
     "output_type": "stream",
     "text": [
      "80.75\n",
      "119.1875\n"
     ]
    },
    {
     "data": {
      "text/plain": [
       "10.917302780449024"
      ]
     },
     "execution_count": 7,
     "metadata": {},
     "output_type": "execute_result"
    }
   ],
   "source": [
    "#표준편차 : 평균과 각 데이터의 차이의 제곱한 것의 합의 제곱근을 구한것의 평균\n",
    "scores = [78,85,95,65]\n",
    "\n",
    "#평균 구하기\n",
    "total = 0 \n",
    "var = 0\n",
    "\n",
    "while var < len(scores):\n",
    "    total += scores[var]\n",
    "    var +=1\n",
    "    \n",
    "avg = total / len(scores)\n",
    "print(avg)\n",
    "\n",
    "# 각 데이터와 평균의 차이의 제곱의 합의 평균 구하기\n",
    "\n",
    "total = 0\n",
    "var = 0\n",
    "\n",
    "while var < len(scores) :\n",
    "    total += (scores[var] - avg ) **2\n",
    "    var += 1\n",
    "    \n",
    "avg = total / len(scores)\n",
    "print(avg)\n",
    "\n",
    "import math\n",
    "math.sqrt(avg)"
   ]
  },
  {
   "cell_type": "code",
   "execution_count": 5,
   "id": "fbf048ac",
   "metadata": {},
   "outputs": [
    {
     "data": {
      "text/plain": [
       "10.917302780449024"
      ]
     },
     "execution_count": 5,
     "metadata": {},
     "output_type": "execute_result"
    }
   ],
   "source": [
    "scores = [78,85,95,65]\n",
    "np.std(scores)"
   ]
  },
  {
   "cell_type": "code",
   "execution_count": null,
   "id": "6a088534",
   "metadata": {},
   "outputs": [],
   "source": []
  }
 ],
 "metadata": {
  "kernelspec": {
   "display_name": "Python 3",
   "language": "python",
   "name": "python3"
  },
  "language_info": {
   "codemirror_mode": {
    "name": "ipython",
    "version": 3
   },
   "file_extension": ".py",
   "mimetype": "text/x-python",
   "name": "python",
   "nbconvert_exporter": "python",
   "pygments_lexer": "ipython3",
   "version": "3.8.8"
  }
 },
 "nbformat": 4,
 "nbformat_minor": 5
}
