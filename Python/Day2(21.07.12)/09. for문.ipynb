{
 "cells": [
  {
   "cell_type": "markdown",
   "id": "a83833da",
   "metadata": {},
   "source": [
    "## range 함수\n",
    "range(시작숫자, 끝숫자, 증가값) #기본 1씩증가\n"
   ]
  },
  {
   "cell_type": "code",
   "execution_count": 2,
   "id": "60f7be9d",
   "metadata": {},
   "outputs": [
    {
     "data": {
      "text/plain": [
       "range(1, 11)"
      ]
     },
     "execution_count": 2,
     "metadata": {},
     "output_type": "execute_result"
    }
   ],
   "source": [
    "var = range(1,11)\n",
    "var"
   ]
  },
  {
   "cell_type": "code",
   "execution_count": 3,
   "id": "b458b6cb",
   "metadata": {},
   "outputs": [
    {
     "data": {
      "text/plain": [
       "[1, 2, 3, 4, 5, 6, 7, 8, 9, 10]"
      ]
     },
     "execution_count": 3,
     "metadata": {},
     "output_type": "execute_result"
    }
   ],
   "source": [
    "#range의 범위를 list로 출력\n",
    "list(range(1,11))\n",
    "\n",
    "#리스트로 감싼다 파이썬에서는 리스트가 좋다!"
   ]
  },
  {
   "cell_type": "code",
   "execution_count": 4,
   "id": "a88ac3cd",
   "metadata": {},
   "outputs": [
    {
     "data": {
      "text/plain": [
       "[0, 2, 4, 6, 8, 10]"
      ]
     },
     "execution_count": 4,
     "metadata": {},
     "output_type": "execute_result"
    }
   ],
   "source": [
    "list(range(0,11,2))"
   ]
  },
  {
   "cell_type": "code",
   "execution_count": 5,
   "id": "969e7fd3",
   "metadata": {},
   "outputs": [
    {
     "data": {
      "text/plain": [
       "[10, 8, 6, 4, 2]"
      ]
     },
     "execution_count": 5,
     "metadata": {},
     "output_type": "execute_result"
    }
   ],
   "source": [
    "list(range(10,0, -2))"
   ]
  },
  {
   "cell_type": "code",
   "execution_count": 6,
   "id": "df242f50",
   "metadata": {},
   "outputs": [
    {
     "data": {
      "text/plain": [
       "[]"
      ]
     },
     "execution_count": 6,
     "metadata": {},
     "output_type": "execute_result"
    }
   ],
   "source": [
    "list(range(0,10,-2)) #에러가 안나고 비어있는 리스트가 나옴!"
   ]
  },
  {
   "cell_type": "code",
   "execution_count": 8,
   "id": "e1b37f3d",
   "metadata": {},
   "outputs": [
    {
     "data": {
      "text/plain": [
       "range(8, 10)"
      ]
     },
     "execution_count": 8,
     "metadata": {},
     "output_type": "execute_result"
    }
   ],
   "source": [
    "var[7:9]"
   ]
  },
  {
   "cell_type": "code",
   "execution_count": 9,
   "id": "18a87281",
   "metadata": {},
   "outputs": [
    {
     "data": {
      "text/plain": [
       "range"
      ]
     },
     "execution_count": 9,
     "metadata": {},
     "output_type": "execute_result"
    }
   ],
   "source": [
    "type(var)"
   ]
  },
  {
   "cell_type": "markdown",
   "id": "8577e4e5",
   "metadata": {},
   "source": [
    "# for문에 range함수 사용하기"
   ]
  },
  {
   "cell_type": "code",
   "execution_count": 10,
   "id": "ef1bef8f",
   "metadata": {},
   "outputs": [
    {
     "name": "stdout",
     "output_type": "stream",
     "text": [
      "1\n",
      "2\n",
      "3\n",
      "4\n",
      "5\n",
      "6\n",
      "7\n",
      "8\n",
      "9\n",
      "10\n"
     ]
    }
   ],
   "source": [
    "for i in range(1,11) :\n",
    "    print(i)"
   ]
  },
  {
   "cell_type": "code",
   "execution_count": 12,
   "id": "06aa9ba3",
   "metadata": {},
   "outputs": [
    {
     "name": "stdout",
     "output_type": "stream",
     "text": [
      "0\n",
      "1\n",
      "2\n",
      "3\n",
      "4\n"
     ]
    }
   ],
   "source": [
    "for i in range(5) : \n",
    "    print(i)"
   ]
  },
  {
   "cell_type": "code",
   "execution_count": 13,
   "id": "f9a3f1a8",
   "metadata": {},
   "outputs": [
    {
     "name": "stdout",
     "output_type": "stream",
     "text": [
      "1\n",
      "3\n",
      "5\n",
      "7\n",
      "9\n"
     ]
    }
   ],
   "source": [
    "# 1부터 10까지 수중 홀수 만 출력하기\n",
    "\n",
    "for i in range(1,11,2) :\n",
    "    print(i)"
   ]
  },
  {
   "cell_type": "code",
   "execution_count": 39,
   "id": "a140dab3",
   "metadata": {},
   "outputs": [
    {
     "name": "stdout",
     "output_type": "stream",
     "text": [
      "9 X 1 =  9\n",
      "9 X 2 = 18\n",
      "9 X 3 = 27\n",
      "9 X 4 = 36\n",
      "9 X 5 = 45\n",
      "9 X 6 = 54\n",
      "9 X 7 = 63\n",
      "9 X 8 = 72\n",
      "9 X 9 = 81\n"
     ]
    }
   ],
   "source": [
    "# 구구단 9단출력\n",
    "for i in range(1,10) :\n",
    "    print(9,'X',i,'=','%2d'%(9*i))"
   ]
  },
  {
   "cell_type": "code",
   "execution_count": 29,
   "id": "34bab54e",
   "metadata": {},
   "outputs": [
    {
     "name": "stdout",
     "output_type": "stream",
     "text": [
      "aaa bbb\n"
     ]
    }
   ],
   "source": [
    "print('aaa', end = ' ')\n",
    "print('bbb')"
   ]
  },
  {
   "cell_type": "code",
   "execution_count": 32,
   "id": "4ace261f",
   "metadata": {},
   "outputs": [
    {
     "name": "stdout",
     "output_type": "stream",
     "text": [
      " 2  4  6  8 10 12 14 16 18 \n",
      " 3  6  9 12 15 18 21 24 27 \n",
      " 4  8 12 16 20 24 28 32 36 \n",
      " 5 10 15 20 25 30 35 40 45 \n",
      " 6 12 18 24 30 36 42 48 54 \n",
      " 7 14 21 28 35 42 49 56 63 \n",
      " 8 16 24 32 40 48 56 64 72 \n",
      " 9 18 27 36 45 54 63 72 81 \n"
     ]
    }
   ],
   "source": [
    "#구구단 결과만 출력\n",
    "for i in range(2,10) : \n",
    "    for j in range(1,10) :\n",
    "        print('%2d'%(i*j), end=\" \")\n",
    "    print()\n",
    "    "
   ]
  },
  {
   "cell_type": "markdown",
   "id": "177055d4",
   "metadata": {},
   "source": [
    "# for문에 list사용하기"
   ]
  },
  {
   "cell_type": "code",
   "execution_count": 33,
   "id": "6b4fe0a8",
   "metadata": {},
   "outputs": [
    {
     "name": "stdout",
     "output_type": "stream",
     "text": [
      "one\n",
      "two\n",
      "three\n"
     ]
    }
   ],
   "source": [
    "test_list = ['one', 'two', 'three']\n",
    "\n",
    "for i in test_list :\n",
    "    print(i)"
   ]
  },
  {
   "cell_type": "code",
   "execution_count": 36,
   "id": "e9093120",
   "metadata": {},
   "outputs": [
    {
     "name": "stdout",
     "output_type": "stream",
     "text": [
      "80.75\n"
     ]
    }
   ],
   "source": [
    "#평균 구하기\n",
    "scores = [78, 85, 95, 65]\n",
    "total = 0\n",
    "\n",
    "for score in scores :\n",
    "    total += score\n",
    "\n",
    "print(total/len(scores))"
   ]
  },
  {
   "cell_type": "markdown",
   "id": "ef1d678b",
   "metadata": {},
   "source": [
    "## for문에 Tuple사용하기"
   ]
  },
  {
   "cell_type": "code",
   "execution_count": 37,
   "id": "1654d579",
   "metadata": {},
   "outputs": [
    {
     "name": "stdout",
     "output_type": "stream",
     "text": [
      "1  :  2\n",
      "3  :  4\n",
      "5  :  6\n"
     ]
    }
   ],
   "source": [
    "var = [(1,2),(3,4),(5,6)]\n",
    "\n",
    "for first, last in var :\n",
    "    print(first, \" : \", last)"
   ]
  },
  {
   "cell_type": "code",
   "execution_count": 40,
   "id": "7090b8ec",
   "metadata": {},
   "outputs": [
    {
     "name": "stdout",
     "output_type": "stream",
     "text": [
      "21\n"
     ]
    }
   ],
   "source": [
    "sum1 = 0\n",
    "for first, last in var :\n",
    "    sum1 += first +last\n",
    "    \n",
    "print(sum1)"
   ]
  },
  {
   "cell_type": "markdown",
   "id": "bc80d058",
   "metadata": {},
   "source": [
    "총 5명의 학생이 시험을 보았는데, 시험점수가 60점을 넘으면 합격이고,   \n",
    "그렇지 않으면 불학격이다.   \n",
    "합격, 불학격 결과 보여주기   "
   ]
  },
  {
   "cell_type": "code",
   "execution_count": 49,
   "id": "4d1f3857",
   "metadata": {},
   "outputs": [
    {
     "name": "stdout",
     "output_type": "stream",
     "text": [
      "1의 학생은 합격 입니다\n",
      "2의 학생은 불학격 입니다\n",
      "3의 학생은 합격 입니다\n",
      "4의 학생은 불학격 입니다\n",
      "5의 학생은 합격 입니다\n"
     ]
    }
   ],
   "source": [
    "scores = [90, 25, 67, 45, 80]\n",
    "\n",
    "for number in range(len(scores)):\n",
    "    if scores[number] >= 60 :\n",
    "        print('%d의 학생은 합격 입니다' %(number+1))\n",
    "    else:\n",
    "        print('%d의 학생은 불합격 입니다' %(number+1))"
   ]
  },
  {
   "cell_type": "code",
   "execution_count": 54,
   "id": "5578440c",
   "metadata": {},
   "outputs": [
    {
     "name": "stdout",
     "output_type": "stream",
     "text": [
      "1의 학생은 점수가 90이므로 합격입니다\n",
      "2의 학생은 점수가 25이므로 불합격입니다\n",
      "3의 학생은 점수가 67이므로 합격입니다\n",
      "4의 학생은 점수가 45이므로 불합격입니다\n",
      "5의 학생은 점수가 80이므로 합격입니다\n"
     ]
    }
   ],
   "source": [
    "scores = [90,25,67,45,80]\n",
    "number = 1\n",
    "for score in scores:\n",
    "    if score >= 60 :\n",
    "        print('%d의 학생은 점수가 %d이므로 합격입니다'%(number,score))\n",
    "    else :\n",
    "        print('%d의 학생은 점수가 %d이므로 불합격입니다'%(number,score))\n",
    "    number += 1"
   ]
  },
  {
   "cell_type": "markdown",
   "id": "b0f7f8fa",
   "metadata": {},
   "source": [
    "학생들 점수의 평균을 구하여 평균점수 기준으로 합격, 불학격 보여주기"
   ]
  },
  {
   "cell_type": "code",
   "execution_count": 59,
   "id": "1cc863ab",
   "metadata": {},
   "outputs": [
    {
     "name": "stdout",
     "output_type": "stream",
     "text": [
      "학급의 평균 점수는 61.4 입니다\n",
      "\n",
      "1의 학생은 점수가 90이므로 합격입니다\n",
      "2의 학생은 점수가 25이므로 불합격입니다\n",
      "3의 학생은 점수가 67이므로 합격입니다\n",
      "4의 학생은 점수가 45이므로 불합격입니다\n",
      "5의 학생은 점수가 80이므로 합격입니다\n"
     ]
    }
   ],
   "source": [
    "import numpy as np\n",
    "\n",
    "scores = [90,25,67,45,80]\n",
    "number = 1\n",
    "avg = np.mean(scores)\n",
    "\n",
    "print('학급의 평균 점수는 %.1f 입니다'%avg)\n",
    "print()\n",
    "\n",
    "for score in scores :\n",
    "    if score >= avg :\n",
    "        print('%d의 학생은 점수가 %d이므로 합격입니다'%(number,score))\n",
    "    else :\n",
    "        print('%d의 학생은 점수가 %d이므로 불합격입니다'%(number,score))\n",
    "    number += 1\n",
    "\n"
   ]
  },
  {
   "cell_type": "code",
   "execution_count": 61,
   "id": "0740d928",
   "metadata": {},
   "outputs": [
    {
     "name": "stdout",
     "output_type": "stream",
     "text": [
      "[5, 10, 15, 20]\n"
     ]
    }
   ],
   "source": [
    "var01 = [1,2,3,4]\n",
    "var02 = []\n",
    "for i in var01:\n",
    "    var02.append(i*5)\n",
    "\n",
    "print(var02)"
   ]
  },
  {
   "cell_type": "markdown",
   "id": "1b633132",
   "metadata": {},
   "source": [
    "# 파이썬의 listed for문"
   ]
  },
  {
   "cell_type": "code",
   "execution_count": 63,
   "id": "cc7888b1",
   "metadata": {},
   "outputs": [
    {
     "data": {
      "text/plain": [
       "[5, 10, 15, 20]"
      ]
     },
     "execution_count": 63,
     "metadata": {},
     "output_type": "execute_result"
    }
   ],
   "source": [
    "var01 = [1,2,3,4]\n",
    "var02 = []\n",
    "\n",
    "var02 = [i*5 for i in var01]\n",
    "var02"
   ]
  },
  {
   "cell_type": "code",
   "execution_count": 69,
   "id": "128ada48",
   "metadata": {},
   "outputs": [
    {
     "data": {
      "text/plain": [
       "[10, 20]"
      ]
     },
     "execution_count": 69,
     "metadata": {},
     "output_type": "execute_result"
    }
   ],
   "source": [
    "# 위의 소스에서 짝수인 경우에만 5를 곱하는 리스트 만들기\n",
    "\n",
    "var01 = [1,2,3,4]\n",
    "var02 = []\n",
    "\n",
    "var02 = [i*5 for i in var01 if i%2==0]\n",
    "var02"
   ]
  },
  {
   "cell_type": "code",
   "execution_count": 79,
   "id": "233c703c",
   "metadata": {},
   "outputs": [
    {
     "name": "stdout",
     "output_type": "stream",
     "text": [
      "[2, 4, 6, 8, 10, 12, 14, 16, 18, 3, 6, 9, 12, 15, 18, 21, 24, 27, 4, 8, 12, 16, 20, 24, 28, 32, 36, 5, 10, 15, 20, 25, 30, 35, 40, 45, 6, 12, 18, 24, 30, 36, 42, 48, 54, 7, 14, 21, 28, 35, 42, 49, 56, 63, 8, 16, 24, 32, 40, 48, 56, 64, 72, 9, 18, 27, 36, 45, 54, 63, 72, 81]\n"
     ]
    }
   ],
   "source": [
    "#구구단 결과만 리스트로 만들기 (2단 ~ 9단)\n",
    "\n",
    "arr = [i*j for i in range(2,10) for j in range(1,10)]\n",
    "print(arr)"
   ]
  },
  {
   "cell_type": "code",
   "execution_count": 81,
   "id": "167546ee",
   "metadata": {},
   "outputs": [
    {
     "name": "stdout",
     "output_type": "stream",
     "text": [
      "합격한 학생들의 평균 점수는 79.00입니다\n"
     ]
    }
   ],
   "source": [
    "#60점 이상의 학생점수만 list로 만들어 평균 구하기\n",
    "\n",
    "import numpy as np\n",
    "\n",
    "scores = [90,25,67,45,80]\n",
    "passList = [score for score in scores if score >= 60]\n",
    "print(\"합격한 학생들의 평균 점수는 %.2f입니다\"%np.mean(passList))"
   ]
  },
  {
   "cell_type": "code",
   "execution_count": null,
   "id": "78b96c69",
   "metadata": {},
   "outputs": [],
   "source": []
  }
 ],
 "metadata": {
  "kernelspec": {
   "display_name": "Python 3",
   "language": "python",
   "name": "python3"
  },
  "language_info": {
   "codemirror_mode": {
    "name": "ipython",
    "version": 3
   },
   "file_extension": ".py",
   "mimetype": "text/x-python",
   "name": "python",
   "nbconvert_exporter": "python",
   "pygments_lexer": "ipython3",
   "version": "3.8.8"
  }
 },
 "nbformat": 4,
 "nbformat_minor": 5
}
