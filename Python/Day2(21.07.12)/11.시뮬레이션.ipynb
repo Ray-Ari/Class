{
 "cells": [
  {
   "cell_type": "markdown",
   "id": "75bb4d6d",
   "metadata": {},
   "source": [
    "# 몬테카를로 시뮬레이션\n",
    "### :자료가 없을 경우 난수를 통해서 가설 증명"
   ]
  },
  {
   "cell_type": "markdown",
   "id": "6b1185e5",
   "metadata": {},
   "source": [
    "## 동전의 앞면과 뒷면이 나올 확률이 같다는 것을 증명"
   ]
  },
  {
   "cell_type": "code",
   "execution_count": 1,
   "id": "43aaeeee",
   "metadata": {},
   "outputs": [],
   "source": [
    "# 모듈 불러오기\n",
    "import random"
   ]
  },
  {
   "cell_type": "code",
   "execution_count": 2,
   "id": "2c6a3b7d",
   "metadata": {},
   "outputs": [
    {
     "data": {
      "text/plain": [
       "4"
      ]
     },
     "execution_count": 2,
     "metadata": {},
     "output_type": "execute_result"
    }
   ],
   "source": [
    "random.randint(1,10)"
   ]
  },
  {
   "cell_type": "code",
   "execution_count": 5,
   "id": "0ce36186",
   "metadata": {},
   "outputs": [
    {
     "name": "stdout",
     "output_type": "stream",
     "text": [
      "뒷면\n"
     ]
    }
   ],
   "source": [
    "# 난수를 통한 방법\n",
    "x = random.randint(1,2)\n",
    "\n",
    "if x == 1:\n",
    "    result = \"앞면\"\n",
    "else : \n",
    "    result = \"뒷면\"\n",
    "    \n",
    "print(result)"
   ]
  },
  {
   "cell_type": "code",
   "execution_count": 12,
   "id": "7ffe0514",
   "metadata": {},
   "outputs": [],
   "source": [
    "def coinF(n) : \n",
    "    coinFront = coinRear = 0\n",
    "    \n",
    "    for i in range(1, n+1) :\n",
    "        x = random.randint(1,2)\n",
    "        if x==1 :\n",
    "            coinFront += 1\n",
    "        else :\n",
    "            coinRear += 1\n",
    "    print(\"%7d번 시도시 동전의 앞면은 %6d번이고 동전의 뒷면은 %6d번 입니다.\"%(n, coinFront, coinRear))"
   ]
  },
  {
   "cell_type": "code",
   "execution_count": 9,
   "id": "e2ba8863",
   "metadata": {},
   "outputs": [
    {
     "name": "stdout",
     "output_type": "stream",
     "text": [
      "10번 시도시 동전의 앞면은 7번이고 동전의 뒷면은 3번 입니다.\n"
     ]
    }
   ],
   "source": [
    "coinF(10)"
   ]
  },
  {
   "cell_type": "code",
   "execution_count": 13,
   "id": "7cdf6e86",
   "metadata": {},
   "outputs": [
    {
     "name": "stdout",
     "output_type": "stream",
     "text": [
      "     10번 시도시 동전의 앞면은      6번이고 동전의 뒷면은      4번 입니다.\n",
      "    100번 시도시 동전의 앞면은     55번이고 동전의 뒷면은     45번 입니다.\n",
      "   1000번 시도시 동전의 앞면은    512번이고 동전의 뒷면은    488번 입니다.\n",
      "  10000번 시도시 동전의 앞면은   5014번이고 동전의 뒷면은   4986번 입니다.\n",
      " 100000번 시도시 동전의 앞면은  49918번이고 동전의 뒷면은  50082번 입니다.\n",
      "1000000번 시도시 동전의 앞면은 499505번이고 동전의 뒷면은 500495번 입니다.\n"
     ]
    }
   ],
   "source": [
    "coinF(10)\n",
    "coinF(100)\n",
    "coinF(1000)\n",
    "coinF(10000)\n",
    "coinF(100000)\n",
    "coinF(1000000)"
   ]
  },
  {
   "cell_type": "code",
   "execution_count": null,
   "id": "460dce61",
   "metadata": {},
   "outputs": [],
   "source": [
    "#가위, 바위 , 보 게임이 이길 확률이 같다는 것을 증명\n"
   ]
  },
  {
   "cell_type": "code",
   "execution_count": 22,
   "id": "c3d63a8a",
   "metadata": {},
   "outputs": [],
   "source": [
    "def rock(n) :\n",
    "    r = s = p = 0\n",
    "    \n",
    "    for i in range(1, n+1) : \n",
    "        x = random.randint (1,3)\n",
    "        \n",
    "        if x == 1:\n",
    "            r += 1\n",
    "            \n",
    "        elif x == 2:\n",
    "            s += 1\n",
    "            \n",
    "        else :\n",
    "            p +=1\n",
    "            \n",
    "    print(\"총 %7d번 해서 바위는 %7d번 이겼고, 가위는 %7d번 이겼고, 보자기는 %7d번 이겼습니다\" %(n,r,s,p))\n",
    "            "
   ]
  },
  {
   "cell_type": "code",
   "execution_count": 23,
   "id": "27a6b81c",
   "metadata": {},
   "outputs": [
    {
     "name": "stdout",
     "output_type": "stream",
     "text": [
      "총     100번 해서 바위는      24번 이겼고, 가위는      38번 이겼고, 보자기는      38번 이겼습니다\n",
      "총    1000번 해서 바위는     334번 이겼고, 가위는     360번 이겼고, 보자기는     306번 이겼습니다\n",
      "총   10000번 해서 바위는    3401번 이겼고, 가위는    3344번 이겼고, 보자기는    3255번 이겼습니다\n",
      "총  100000번 해서 바위는   33260번 이겼고, 가위는   33216번 이겼고, 보자기는   33524번 이겼습니다\n",
      "총 1000000번 해서 바위는  333813번 이겼고, 가위는  332913번 이겼고, 보자기는  333274번 이겼습니다\n"
     ]
    }
   ],
   "source": [
    "rock(100)\n",
    "rock(1000)\n",
    "rock(10000)\n",
    "rock(100000)\n",
    "rock(1000000)"
   ]
  },
  {
   "cell_type": "code",
   "execution_count": null,
   "id": "49d1bdf5",
   "metadata": {},
   "outputs": [],
   "source": []
  },
  {
   "cell_type": "code",
   "execution_count": null,
   "id": "eb4c967a",
   "metadata": {},
   "outputs": [],
   "source": []
  },
  {
   "cell_type": "code",
   "execution_count": null,
   "id": "9fa9fc7e",
   "metadata": {},
   "outputs": [],
   "source": []
  },
  {
   "cell_type": "code",
   "execution_count": null,
   "id": "021af417",
   "metadata": {},
   "outputs": [],
   "source": []
  },
  {
   "cell_type": "code",
   "execution_count": null,
   "id": "64788f0d",
   "metadata": {},
   "outputs": [],
   "source": []
  },
  {
   "cell_type": "code",
   "execution_count": null,
   "id": "d7800c49",
   "metadata": {},
   "outputs": [],
   "source": []
  },
  {
   "cell_type": "code",
   "execution_count": null,
   "id": "ef8a095d",
   "metadata": {},
   "outputs": [],
   "source": []
  },
  {
   "cell_type": "code",
   "execution_count": null,
   "id": "c9f945e0",
   "metadata": {},
   "outputs": [],
   "source": []
  }
 ],
 "metadata": {
  "kernelspec": {
   "display_name": "Python 3",
   "language": "python",
   "name": "python3"
  },
  "language_info": {
   "codemirror_mode": {
    "name": "ipython",
    "version": 3
   },
   "file_extension": ".py",
   "mimetype": "text/x-python",
   "name": "python",
   "nbconvert_exporter": "python",
   "pygments_lexer": "ipython3",
   "version": "3.8.8"
  }
 },
 "nbformat": 4,
 "nbformat_minor": 5
}
