{
 "cells": [
  {
   "cell_type": "code",
   "execution_count": 1,
   "id": "4425dc45",
   "metadata": {},
   "outputs": [],
   "source": [
    "from random import randint"
   ]
  },
  {
   "cell_type": "code",
   "execution_count": 2,
   "id": "579394da",
   "metadata": {},
   "outputs": [
    {
     "name": "stdout",
     "output_type": "stream",
     "text": [
      "78 is greater than 50\n",
      "---end---\n"
     ]
    }
   ],
   "source": [
    "#if\n",
    "x = randint(1,100)\n",
    "x\n",
    "\n",
    "if x > 50 : \n",
    "    print(str(x), \"is greater than 50\")\n",
    "    \n",
    "print(\"---end---\")"
   ]
  },
  {
   "cell_type": "code",
   "execution_count": 3,
   "id": "78b482bf",
   "metadata": {},
   "outputs": [
    {
     "name": "stdout",
     "output_type": "stream",
     "text": [
      "87 is greater than 50\n",
      "---end---\n"
     ]
    }
   ],
   "source": [
    "# if else\n",
    "x = randint(1,100)\n",
    "\n",
    "if x > 50 : \n",
    "    print(str(x), \"is greater than 50\")\n",
    "else : \n",
    "    print(str(x), \"is less or equal to 50\")\n",
    "    \n",
    "print(\"---end---\")    \n",
    "    "
   ]
  },
  {
   "cell_type": "code",
   "execution_count": 4,
   "id": "27f26458",
   "metadata": {},
   "outputs": [
    {
     "name": "stdout",
     "output_type": "stream",
     "text": [
      "100 is greater than 50\n",
      "---end---\n"
     ]
    }
   ],
   "source": [
    "# if elif else\n",
    "x = randint(1,100)\n",
    "\n",
    "if x > 50 : \n",
    "    print(str(x), \"is greater than 50\")\n",
    "elif x == 50 : \n",
    "    print(str(x), \"is equal to 50\")\n",
    "else : \n",
    "    print(str(x), \"is less than 50\")\n",
    "    \n",
    "print(\"---end---\")    \n"
   ]
  },
  {
   "cell_type": "code",
   "execution_count": 5,
   "id": "3bc53fa8",
   "metadata": {},
   "outputs": [
    {
     "name": "stdout",
     "output_type": "stream",
     "text": [
      "숫자를 입력하세요12\n",
      "12은 짝수 입니다\n"
     ]
    }
   ],
   "source": [
    "#사용자로 부터 숫자를 입력 받아 홀짝수 구분\n",
    "#ex : 23은 홀수입니다.\n",
    "x = int(input(\"숫자를 입력하세요\"))\n",
    "\n",
    "if x%2 == 0 :\n",
    "    print( str(x) + \"은 짝수 입니다\")\n",
    "else :\n",
    "    print( str(x) + \"은 홀수 입니다\")"
   ]
  },
  {
   "cell_type": "code",
   "execution_count": 6,
   "id": "06b75aa8",
   "metadata": {},
   "outputs": [
    {
     "name": "stdout",
     "output_type": "stream",
     "text": [
      "점수를 입력하세요12\n",
      "점수는 12점이고 F 학점 입니다\n"
     ]
    }
   ],
   "source": [
    "#사용자로 부터 점수를 입력 받아 학점 등급을 계산하여 출력하기\n",
    "#ex : 점수는 89점이고 B학점 입니다.\n",
    "x = int(input(\"점수를 입력하세요\"))\n",
    "\n",
    "print(\"점수는 \" + str(x) + \"점이고 \", end = \"\")\n",
    "if x >= 90 :\n",
    "    print( \"A\", end=\"\")\n",
    "elif x>=80 :\n",
    "    print( \"B\", end=\"\")\n",
    "elif x>=70 :\n",
    "    print( \"C\", end=\"\")\n",
    "elif x>=60 :\n",
    "    print( \"D\", end=\"\")\n",
    "else :\n",
    "    print( \"F\", end=\"\")\n",
    "print(\" 학점 입니다\")\n",
    "    \n",
    "    \n",
    "    \n",
    "    "
   ]
  },
  {
   "cell_type": "code",
   "execution_count": 12,
   "id": "483613c1",
   "metadata": {},
   "outputs": [
    {
     "name": "stdout",
     "output_type": "stream",
     "text": [
      "신용카드로 택시 타기\n"
     ]
    }
   ],
   "source": [
    "pocket = ['paper', 'smartphone']\n",
    "card = 1 #0만 false 나머지는 트루!\n",
    "\n",
    "if 'money' in pocket :\n",
    "    print(\"현금으로 택시 타기\")\n",
    "elif card:\n",
    "    print(\"신용카드로 택시 타기\")\n",
    "else :\n",
    "    print('튼튼한 다리를 사용!')"
   ]
  },
  {
   "cell_type": "code",
   "execution_count": null,
   "id": "40fd4543",
   "metadata": {},
   "outputs": [],
   "source": []
  },
  {
   "cell_type": "code",
   "execution_count": null,
   "id": "982066d9",
   "metadata": {},
   "outputs": [],
   "source": []
  },
  {
   "cell_type": "code",
   "execution_count": null,
   "id": "5f7ca589",
   "metadata": {},
   "outputs": [],
   "source": []
  },
  {
   "cell_type": "code",
   "execution_count": null,
   "id": "da6a734c",
   "metadata": {},
   "outputs": [],
   "source": []
  }
 ],
 "metadata": {
  "kernelspec": {
   "display_name": "Python 3",
   "language": "python",
   "name": "python3"
  },
  "language_info": {
   "codemirror_mode": {
    "name": "ipython",
    "version": 3
   },
   "file_extension": ".py",
   "mimetype": "text/x-python",
   "name": "python",
   "nbconvert_exporter": "python",
   "pygments_lexer": "ipython3",
   "version": "3.8.8"
  }
 },
 "nbformat": 4,
 "nbformat_minor": 5
}
